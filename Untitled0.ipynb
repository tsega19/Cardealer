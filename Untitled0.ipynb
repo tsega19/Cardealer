{
  "nbformat": 4,
  "nbformat_minor": 0,
  "metadata": {
    "colab": {
      "provenance": [],
      "authorship_tag": "ABX9TyOrsxagFHmNq9ajJf8kAw1O",
      "include_colab_link": true
    },
    "kernelspec": {
      "name": "python3",
      "display_name": "Python 3"
    },
    "language_info": {
      "name": "python"
    }
  },
  "cells": [
    {
      "cell_type": "markdown",
      "metadata": {
        "id": "view-in-github",
        "colab_type": "text"
      },
      "source": [
        "<a href=\"https://colab.research.google.com/github/tsega19/Cardealer/blob/main/Untitled0.ipynb\" target=\"_parent\"><img src=\"https://colab.research.google.com/assets/colab-badge.svg\" alt=\"Open In Colab\"/></a>"
      ]
    },
    {
      "cell_type": "code",
      "execution_count": null,
      "metadata": {
        "id": "kK7wKGNy95ew"
      },
      "outputs": [],
      "source": [
        "import pandas as pd\n",
        "import xgboost as xgb\n",
        "import matplotlib.pyplot as plt\n"
      ]
    },
    {
      "cell_type": "code",
      "source": [
        "data = pd.read_csv('tesla.csv')\n",
        "data"
      ],
      "metadata": {
        "id": "FN75yYo6-aMy"
      },
      "execution_count": null,
      "outputs": []
    },
    {
      "cell_type": "code",
      "source": [
        "data['Close'].plot()"
      ],
      "metadata": {
        "id": "xVkqOx8dH1gP"
      },
      "execution_count": null,
      "outputs": []
    },
    {
      "cell_type": "code",
      "source": [
        "train_data = data.iloc[:int(.99*len(data)), :]\n",
        "test_data = data.iloc[int(.99*len(data)):, :]"
      ],
      "metadata": {
        "id": "s4JIoZaOKiHv"
      },
      "execution_count": null,
      "outputs": []
    },
    {
      "cell_type": "code",
      "source": [
        "features = ['Open', 'Volume']\n",
        "target = 'Close'"
      ],
      "metadata": {
        "id": "eintMtBILT3P"
      },
      "execution_count": null,
      "outputs": []
    },
    {
      "cell_type": "code",
      "source": [
        "model = xgb.XGBRegressor()\n",
        "model.fit(train_data[features], train_data[target])"
      ],
      "metadata": {
        "id": "Qogh3OfhLk4g"
      },
      "execution_count": null,
      "outputs": []
    },
    {
      "cell_type": "code",
      "source": [
        "predictions = model.predict(test_data[features])\n",
        "print('Model Predictions:')\n",
        "print(predictions)"
      ],
      "metadata": {
        "colab": {
          "base_uri": "https://localhost:8080/"
        },
        "id": "LXZds1f0LtfR",
        "outputId": "228334fd-f890-4b92-e84f-400058eec25a"
      },
      "execution_count": null,
      "outputs": [
        {
          "output_type": "stream",
          "name": "stdout",
          "text": [
            "Model Predictions:\n",
            "[215.17848 213.74527 217.68364 218.07391 214.97542 209.2016  212.20976\n",
            " 201.57481 206.15604 208.81763 230.28545 229.37564 229.01395 224.86\n",
            " 235.43246 210.68518 216.40445 238.17458 235.28918 239.10866 226.07712\n",
            " 242.34753 239.3471  240.07718 233.92155 239.73232 238.18729 263.25537]\n"
          ]
        }
      ]
    },
    {
      "cell_type": "code",
      "source": [
        "print('Actual value')\n",
        "print(test_data[target])"
      ],
      "metadata": {
        "id": "jj4apwrMNBJw"
      },
      "execution_count": null,
      "outputs": []
    },
    {
      "cell_type": "code",
      "source": [
        "accuracy = model.score(test_data[features], test_data[target])\n",
        "print('Accuracy:')\n",
        "print(accuracy)"
      ],
      "metadata": {
        "colab": {
          "base_uri": "https://localhost:8080/"
        },
        "id": "dc50esfMRTLk",
        "outputId": "6327313b-17a4-4f2d-9373-9702ac979ca2"
      },
      "execution_count": null,
      "outputs": [
        {
          "output_type": "stream",
          "name": "stdout",
          "text": [
            "Accuracy:\n",
            "0.611475399371197\n"
          ]
        }
      ]
    }
  ]
}